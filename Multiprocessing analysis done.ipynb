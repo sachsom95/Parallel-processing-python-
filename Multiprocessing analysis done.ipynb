{
 "cells": [
  {
   "cell_type": "markdown",
   "metadata": {},
   "source": [
    "# Assignment 1 "
   ]
  },
  {
   "cell_type": "markdown",
   "metadata": {},
   "source": [
    "<h3> Objective </h3>\n",
    "<p> To evaluate speedup derived from using multiple CPU cores via the multiprocessing facility in Python </p>\n",
    "<h4> Step 1 </h4>\n",
    "<p> Make a function which will utilize multiprocessing to execute another function </p>\n",
    "<blockquote> This is essentially a wrapper<br> SYSTEM SPECS : Macbook Pro 1.4 GHz Quad-Core Intel Core i5 </blockquote>"
   ]
  },
  {
   "cell_type": "code",
   "execution_count": 1,
   "metadata": {},
   "outputs": [],
   "source": [
    "# Generate a pool function which will accept a function as an argument and use a mapping with data recived to do computations\n",
    "import time\n",
    "import math\n",
    "import multiprocessing\n",
    "from multiprocessing import Pool\n",
    "\n",
    "# A function for timing a job that uses a pool of processes.\n",
    "#  f is a function that takes a single argument\n",
    "#  data is an array of arguments on which f will be mapped\n",
    "#  pool_size is the number of processes in the pool. \n",
    "def pool_process(f, data, pool_size):\n",
    "    tp1 = time.time()\n",
    "    pool = Pool(processes=pool_size) # initialize the Pool.\n",
    "    result = pool.map(f, data);       # map f to the data using the Pool of processes to do the work \n",
    "#     print(result)\n",
    "    pool.close() # No more processes\n",
    "    pool.join()  # Wait for the pool processing to complete. \n",
    "#     print(\"Results\", result)\n",
    "    time_taken = int(time.time()-tp1)\n",
    "    print(\"Overall Time:\", time_taken)\n",
    "    return time_taken\n"
   ]
  },
  {
   "cell_type": "markdown",
   "metadata": {},
   "source": [
    "<h4> Step 2:</h4><br>\n",
    "The function we will use for initial analysis to check perfomance hit.<blockquote> The function used here checks if the number passed to function is prime or not. The function will be called in a wrapper function which will pass a series of data and record time of execution. The process will be repeated with multiprocessing and analysis will be done</blockquote>"
   ]
  },
  {
   "cell_type": "code",
   "execution_count": 2,
   "metadata": {},
   "outputs": [],
   "source": [
    "def check_prime(num):\n",
    "    t1 = time.time()\n",
    "    res = False\n",
    "    if num > 0:\n",
    "        # check for factors\n",
    "        for i in range(2,num):\n",
    "            if (num % i) == 0:\n",
    "#                 print(num,\"is not a prime number\")\n",
    "#                 print(i,\"times\",num//i,\"is\",num)\n",
    "#                 print(\"Time:\", int(time.time()-t1))\n",
    "                break\n",
    "        else:\n",
    "#             print(num,\"is a prime number\")\n",
    "#             print(\"Time:\", time.time()-t1) \n",
    "            res = True\n",
    "            # if input number is less than\n",
    "            # or equal to 1, it is not prime\n",
    "    return res"
   ]
  },
  {
   "cell_type": "markdown",
   "metadata": {},
   "source": [
    "<h4> Step 3 : Get require data</h4><br>\n",
    "<blockquote>\n",
    "In order for analysis to be devoid of noise created by background process, context switching and scheduling we will need to run the program over a large set of number. To do this I took 3000 eight digit prime numbers from website provided and stored it in a txt file called 'primes.txt'. From this we will take subset of primes and will pass it to generate time required for exection </blockquote>"
   ]
  },
  {
   "cell_type": "code",
   "execution_count": 3,
   "metadata": {},
   "outputs": [],
   "source": [
    "text_file = open(\"primes.txt\", \"r\")"
   ]
  },
  {
   "cell_type": "markdown",
   "metadata": {},
   "source": [
    "The txt file contains prime number in string format. Regex is used to extract the number and store it in a list"
   ]
  },
  {
   "cell_type": "code",
   "execution_count": 4,
   "metadata": {},
   "outputs": [],
   "source": [
    "import re\n",
    "regex = re.compile(r'[0-9]+')"
   ]
  },
  {
   "cell_type": "code",
   "execution_count": 5,
   "metadata": {},
   "outputs": [],
   "source": [
    "lst = []\n",
    "for oneline in text_file:\n",
    "    lines = re.findall(regex,oneline)\n",
    "    if(len(lines) > 0):\n",
    "        for i in range(0,7):\n",
    "            lst.append(int(lines[i]))                "
   ]
  },
  {
   "cell_type": "markdown",
   "metadata": {},
   "source": [
    "Making data of diffrent size for analysis"
   ]
  },
  {
   "cell_type": "code",
   "execution_count": 6,
   "metadata": {},
   "outputs": [],
   "source": [
    "dataRange_10 = lst[0:10]\n",
    "dataRange_20 = lst[0:20]\n",
    "dataRange_30 = lst[0:30]"
   ]
  },
  {
   "cell_type": "code",
   "execution_count": 7,
   "metadata": {},
   "outputs": [],
   "source": [
    "dataRange_700 = lst[0:701]"
   ]
  },
  {
   "cell_type": "markdown",
   "metadata": {},
   "source": [
    "<h4> Step 4 : Analysis </h4>\n",
    "<blockquote> Here we start our analysis. For first part I will pass 700 large prime numbers to <b> pool_process </b> function and measure time taken to finish execution. This process will be repeated with multiple process from one process to 4 process and we will measure the time taken for each and later I will plot this in an excel sheet as an observation </blockquote> "
   ]
  },
  {
   "cell_type": "markdown",
   "metadata": {},
   "source": [
    "Single process - 700 primes"
   ]
  },
  {
   "cell_type": "code",
   "execution_count": 8,
   "metadata": {
    "scrolled": true
   },
   "outputs": [
    {
     "name": "stdout",
     "output_type": "stream",
     "text": [
      "Overall Time: 591\n"
     ]
    }
   ],
   "source": [
    "#pool_process(my_func, dataRange, 1)\n",
    "time_taken_single_process_700 = pool_process(check_prime, dataRange_700, 1)"
   ]
  },
  {
   "cell_type": "markdown",
   "metadata": {},
   "source": [
    "This execution with just single process took 587 seconds to finish execution. We will do same test with multiple process below. I removed the verbose part of function as it holds no significance to the experiment and makes the notebook less readable"
   ]
  },
  {
   "cell_type": "markdown",
   "metadata": {},
   "source": [
    "Two process - 700 primes"
   ]
  },
  {
   "cell_type": "code",
   "execution_count": 9,
   "metadata": {},
   "outputs": [
    {
     "name": "stdout",
     "output_type": "stream",
     "text": [
      "Overall Time: 306\n"
     ]
    }
   ],
   "source": [
    "time_taken_dual_process_700 = pool_process(check_prime, dataRange_700, 2)"
   ]
  },
  {
   "cell_type": "markdown",
   "metadata": {},
   "source": [
    "The execution time almost halved when multi processing was enabled lets see results when we employ more processs"
   ]
  },
  {
   "cell_type": "markdown",
   "metadata": {},
   "source": [
    "Three process - 700 primes"
   ]
  },
  {
   "cell_type": "code",
   "execution_count": 10,
   "metadata": {},
   "outputs": [
    {
     "name": "stdout",
     "output_type": "stream",
     "text": [
      "Overall Time: 228\n"
     ]
    }
   ],
   "source": [
    "time_taken_triple_process_700 = pool_process(check_prime, dataRange_700, 3)"
   ]
  },
  {
   "cell_type": "markdown",
   "metadata": {},
   "source": [
    "It seems that the gains by increasing the process count is starting to plateau "
   ]
  },
  {
   "cell_type": "markdown",
   "metadata": {},
   "source": [
    "4 process - 700 primes"
   ]
  },
  {
   "cell_type": "code",
   "execution_count": 11,
   "metadata": {},
   "outputs": [
    {
     "name": "stdout",
     "output_type": "stream",
     "text": [
      "Overall Time: 195\n"
     ]
    }
   ],
   "source": [
    "time_taken_quad_process_700 = pool_process(check_prime, dataRange_700, 4)"
   ]
  },
  {
   "cell_type": "code",
   "execution_count": 12,
   "metadata": {},
   "outputs": [
    {
     "name": "stdout",
     "output_type": "stream",
     "text": [
      "Overall Time: 191\n"
     ]
    }
   ],
   "source": [
    "time_taken_five_process_700 = pool_process(check_prime, dataRange_700, 5)"
   ]
  },
  {
   "cell_type": "markdown",
   "metadata": {},
   "source": [
    "Still improving but gains are modest. The results show that we might need to find an optimum number of process to handle a task. Rather than increasing the number of process as comprise between gain and process overhead."
   ]
  },
  {
   "cell_type": "code",
   "execution_count": 13,
   "metadata": {},
   "outputs": [
    {
     "name": "stdout",
     "output_type": "stream",
     "text": [
      "Overall Time: 200\n"
     ]
    }
   ],
   "source": [
    "time_taken_six_process_700 = pool_process(check_prime, dataRange_700, 6)"
   ]
  },
  {
   "cell_type": "markdown",
   "metadata": {},
   "source": [
    "We currently tested effect of multi-programming on 700 data points. Next we will see how it effects for much smalled number of datapoints and see if we can observe same trends. For that we will test with 20 and 30 prime numbers"
   ]
  },
  {
   "cell_type": "markdown",
   "metadata": {},
   "source": [
    "<h6>Test with 20 primes</h6>"
   ]
  },
  {
   "cell_type": "code",
   "execution_count": 14,
   "metadata": {},
   "outputs": [
    {
     "name": "stdout",
     "output_type": "stream",
     "text": [
      "Overall Time: 17\n"
     ]
    }
   ],
   "source": [
    "#pool_process(my_func, dataRange, 1)\n",
    "time_taken_single_process_20 = pool_process(check_prime, dataRange_20, 1)"
   ]
  },
  {
   "cell_type": "code",
   "execution_count": 15,
   "metadata": {},
   "outputs": [
    {
     "name": "stdout",
     "output_type": "stream",
     "text": [
      "Overall Time: 9\n"
     ]
    }
   ],
   "source": [
    "#pool_process(my_func, dataRange, 2)\n",
    "time_taken_double_process_20 = pool_process(check_prime, dataRange_20, 2)"
   ]
  },
  {
   "cell_type": "code",
   "execution_count": 16,
   "metadata": {},
   "outputs": [
    {
     "name": "stdout",
     "output_type": "stream",
     "text": [
      "Overall Time: 7\n"
     ]
    }
   ],
   "source": [
    "#pool_process(my_func, dataRange, 3)\n",
    "time_taken_triple_process_20 = pool_process(check_prime, dataRange_20, 3)"
   ]
  },
  {
   "cell_type": "code",
   "execution_count": 17,
   "metadata": {},
   "outputs": [
    {
     "name": "stdout",
     "output_type": "stream",
     "text": [
      "Overall Time: 5\n"
     ]
    }
   ],
   "source": [
    "#pool_process(my_func, dataRange, 4)\n",
    "time_taken_quad_process_20 = pool_process(check_prime, dataRange_20, 4)"
   ]
  },
  {
   "cell_type": "code",
   "execution_count": 18,
   "metadata": {},
   "outputs": [
    {
     "name": "stdout",
     "output_type": "stream",
     "text": [
      "Overall Time: 5\n"
     ]
    }
   ],
   "source": [
    "#pool_process(my_func, dataRange, 4)\n",
    "time_taken_five_process_20 = pool_process(check_prime, dataRange_20, 5)"
   ]
  },
  {
   "cell_type": "code",
   "execution_count": 19,
   "metadata": {},
   "outputs": [
    {
     "name": "stdout",
     "output_type": "stream",
     "text": [
      "Overall Time: 5\n"
     ]
    }
   ],
   "source": [
    "#pool_process(my_func, dataRange, 4)\n",
    "time_taken_six_process_20 = pool_process(check_prime, dataRange_20, 6)"
   ]
  },
  {
   "cell_type": "markdown",
   "metadata": {},
   "source": [
    "<blockquote> Observations<br>\n",
    "    The plateauing of the gains are much more evident with smaller times. We indeed see an improvement in exectuion of process but the gains from it starts to decreases after certain number of process </blockquote>"
   ]
  },
  {
   "cell_type": "markdown",
   "metadata": {},
   "source": [
    "<h6>Test with 10 primes</h6>"
   ]
  },
  {
   "cell_type": "code",
   "execution_count": 20,
   "metadata": {},
   "outputs": [
    {
     "name": "stdout",
     "output_type": "stream",
     "text": [
      "Overall Time: 9\n"
     ]
    }
   ],
   "source": [
    "#pool_process(my_func, dataRange, 1)\n",
    "time_taken_single_process_10 = pool_process(check_prime, dataRange_10, 1)"
   ]
  },
  {
   "cell_type": "code",
   "execution_count": 21,
   "metadata": {},
   "outputs": [
    {
     "name": "stdout",
     "output_type": "stream",
     "text": [
      "Overall Time: 5\n"
     ]
    }
   ],
   "source": [
    "#pool_process(my_func, dataRange, 2)\n",
    "time_taken_double_process_10 = pool_process(check_prime, dataRange_10, 2)"
   ]
  },
  {
   "cell_type": "code",
   "execution_count": 22,
   "metadata": {},
   "outputs": [
    {
     "name": "stdout",
     "output_type": "stream",
     "text": [
      "Overall Time: 3\n"
     ]
    }
   ],
   "source": [
    "#pool_process(my_func, dataRange, 3)\n",
    "time_taken_triple_process_10 = pool_process(check_prime, dataRange_10, 3)"
   ]
  },
  {
   "cell_type": "code",
   "execution_count": 23,
   "metadata": {},
   "outputs": [
    {
     "name": "stdout",
     "output_type": "stream",
     "text": [
      "Overall Time: 2\n"
     ]
    }
   ],
   "source": [
    "#pool_process(my_func, dataRange, 4)\n",
    "time_taken_quad_process_10 = pool_process(check_prime, dataRange_10, 4)"
   ]
  },
  {
   "cell_type": "code",
   "execution_count": 24,
   "metadata": {},
   "outputs": [
    {
     "name": "stdout",
     "output_type": "stream",
     "text": [
      "Overall Time: 2\n"
     ]
    }
   ],
   "source": [
    "#pool_process(my_func, dataRange, 4)\n",
    "time_taken_five_process_10 = pool_process(check_prime, dataRange_10, 5)"
   ]
  },
  {
   "cell_type": "code",
   "execution_count": 25,
   "metadata": {},
   "outputs": [
    {
     "name": "stdout",
     "output_type": "stream",
     "text": [
      "Overall Time: 3\n"
     ]
    }
   ],
   "source": [
    "#pool_process(my_func, dataRange, 4)\n",
    "time_taken_six_process_10 = pool_process(check_prime, dataRange_10, 6)"
   ]
  },
  {
   "cell_type": "markdown",
   "metadata": {},
   "source": [
    "The three sets of data indeed give a similar trend. Providing sufficent data to back our claims of multiprocessing speeding up certain tasks."
   ]
  },
  {
   "cell_type": "markdown",
   "metadata": {},
   "source": [
    "<h3> Results of Observation <h3>"
   ]
  },
  {
   "cell_type": "markdown",
   "metadata": {},
   "source": [
    "| INPUTS     \t| Single Process \t| Two Process \t| Three Process \t| Four Process \t| Five Process \t| Six Process \t|\n",
    "|------------\t|----------------\t|-------------\t|---------------\t|--------------\t|--------------\t|-------------\t|\n",
    "| 700 Primes \t|   591 seconds  \t| 306 seconds \t|  228 seconds  \t|  195 seconds \t|  191 seconds \t| 200 seconds \t|\n",
    "| 20 Primes  \t|   17 seconds   \t|  9 seconds  \t|   7 seconds   \t|   5 seconds  \t|   5 seconds  \t|  5 seconds  \t|\n",
    "| 10 Primes  \t|    9 seconds   \t|  5 seconds  \t|   3 seconds   \t|   2 seconds  \t|   2 seconds  \t|  3 seconds  \t|"
   ]
  },
  {
   "cell_type": "markdown",
   "metadata": {},
   "source": [
    "<h1> Part 2 </h1>"
   ]
  },
  {
   "cell_type": "markdown",
   "metadata": {},
   "source": [
    "<h4> In this section I will repeat the experiment with a function different from prime checker and see if we can reproduce the results </h4>"
   ]
  },
  {
   "cell_type": "markdown",
   "metadata": {},
   "source": [
    "In Iterative approach we use a for loop to create the factorial series\n",
    "AlGORITHM\n",
    "<ul>\n",
    "    <li>\n",
    "Define function called factorial_iterative(x)\n",
    "    </li>\n",
    "    <li>\n",
    "If we input 1 return directly 1\n",
    "    </li>\n",
    "    <li>\n",
    "If number greater than 1 is sent as parameter make a for loop which will iterate from 1 to given number\n",
    "Factorial calculated in variable called fact as fact = fact*number\n",
    "    </li>\n",
    "    <li>\n",
    "Finally return the factorial calculated\n",
    "    </li>\n",
    "    </ul>"
   ]
  },
  {
   "cell_type": "markdown",
   "metadata": {},
   "source": [
    "The reason for using this function is because its O(n) therfore we expect a linear trend and factorials can be an area where we can see gains in multiprocessing."
   ]
  },
  {
   "cell_type": "markdown",
   "metadata": {},
   "source": [
    "create data inputs 10000 inputs can be bit large but current pc can hadle it"
   ]
  },
  {
   "cell_type": "code",
   "execution_count": 27,
   "metadata": {},
   "outputs": [],
   "source": [
    "data_range = [x for x in range (10000)]"
   ]
  },
  {
   "cell_type": "code",
   "execution_count": 28,
   "metadata": {},
   "outputs": [],
   "source": [
    "def factorial_iterative(x):\n",
    "    if (x==1):\n",
    "        return 1\n",
    "    else:\n",
    "        fact = 1\n",
    "    for z in range(1,x+1):\n",
    "        fact=fact*z\n",
    "    return fact"
   ]
  },
  {
   "cell_type": "code",
   "execution_count": 29,
   "metadata": {},
   "outputs": [
    {
     "name": "stdout",
     "output_type": "stream",
     "text": [
      "Overall Time: 64\n"
     ]
    }
   ],
   "source": [
    "time_taken_single_process_10000_factorial = pool_process(factorial_iterative, data_range, 1)"
   ]
  },
  {
   "cell_type": "code",
   "execution_count": 30,
   "metadata": {},
   "outputs": [
    {
     "name": "stdout",
     "output_type": "stream",
     "text": [
      "Overall Time: 37\n"
     ]
    }
   ],
   "source": [
    "time_taken_double_process_10000_factorial = pool_process(factorial_iterative, data_range, 2)"
   ]
  },
  {
   "cell_type": "code",
   "execution_count": 31,
   "metadata": {},
   "outputs": [
    {
     "name": "stdout",
     "output_type": "stream",
     "text": [
      "Overall Time: 26\n"
     ]
    }
   ],
   "source": [
    "time_taken_triple_process_10000_factorial = pool_process(factorial_iterative, data_range, 3)"
   ]
  },
  {
   "cell_type": "code",
   "execution_count": 32,
   "metadata": {},
   "outputs": [
    {
     "name": "stdout",
     "output_type": "stream",
     "text": [
      "Overall Time: 21\n"
     ]
    }
   ],
   "source": [
    "time_taken_quad_process_10000_factorial = pool_process(factorial_iterative, data_range, 4)"
   ]
  },
  {
   "cell_type": "code",
   "execution_count": 33,
   "metadata": {},
   "outputs": [
    {
     "name": "stdout",
     "output_type": "stream",
     "text": [
      "Overall Time: 20\n"
     ]
    }
   ],
   "source": [
    "time_taken_five_process_10000_factorial = pool_process(factorial_iterative, data_range, 5)"
   ]
  },
  {
   "cell_type": "code",
   "execution_count": 34,
   "metadata": {},
   "outputs": [
    {
     "name": "stdout",
     "output_type": "stream",
     "text": [
      "Overall Time: 34\n"
     ]
    }
   ],
   "source": [
    "time_taken_six_process_10000_factorial = pool_process(factorial_iterative, data_range, 6)"
   ]
  },
  {
   "cell_type": "markdown",
   "metadata": {},
   "source": [
    "<h3> Results of Observation <h3>"
   ]
  },
  {
   "cell_type": "markdown",
   "metadata": {},
   "source": [
    "| INPUTS            \t| Single Process \t| Two Process \t| Three Process \t| Four Process \t| Five Process \t| Six Process \t|\n",
    "|-------------------\t|----------------\t|-------------\t|---------------\t|--------------\t|--------------\t|-------------\t|\n",
    "| 10,000 Factorials \t|   64 seconds   \t|  37 seconds \t|   26 seconds  \t|  21 seconds  \t|  20 seconds  \t|  34 seconds \t|"
   ]
  },
  {
   "cell_type": "markdown",
   "metadata": {},
   "source": [
    "<blockquote> <p> The observations remain same even for diffrent function. We see a large improvement in execution speed when we employ multiprocessing however as number of process increases there is a decrease in gain and reaches a point where increasing number of process doesn't increase perfomance and creates overheads. Therfore we need to see how many process we need to employ to properly get good gains. This is understandable as as process becomes more than number of available cores we need to do context switching </p></blockquote>"
   ]
  },
  {
   "cell_type": "markdown",
   "metadata": {},
   "source": [
    "Better visualizations will be provided in accompanying documents"
   ]
  },
  {
   "cell_type": "code",
   "execution_count": null,
   "metadata": {},
   "outputs": [],
   "source": []
  }
 ],
 "metadata": {
  "kernelspec": {
   "display_name": "Python 3",
   "language": "python",
   "name": "python3"
  },
  "language_info": {
   "codemirror_mode": {
    "name": "ipython",
    "version": 3
   },
   "file_extension": ".py",
   "mimetype": "text/x-python",
   "name": "python",
   "nbconvert_exporter": "python",
   "pygments_lexer": "ipython3",
   "version": "3.7.6"
  }
 },
 "nbformat": 4,
 "nbformat_minor": 4
}
